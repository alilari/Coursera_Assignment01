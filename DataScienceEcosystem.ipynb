{
  "nbformat": 4,
  "nbformat_minor": 0,
  "metadata": {
    "colab": {
      "provenance": []
    },
    "kernelspec": {
      "name": "python3",
      "display_name": "Python 3"
    },
    "language_info": {
      "name": "python"
    }
  },
  "cells": [
    {
      "cell_type": "markdown",
      "source": [
        "# Data Science Tools and Ecosystem"
      ],
      "metadata": {
        "id": "hNDieuU-So4k"
      }
    },
    {
      "cell_type": "markdown",
      "source": [
        "In this notebook, Data Science Tools and Ecosystem are summarized."
      ],
      "metadata": {
        "id": "3Ok39A0uS_nk"
      }
    },
    {
      "cell_type": "markdown",
      "source": [
        "some of the key takeaways from the course:\n",
        "\n",
        "**Objectives:**\n",
        "\n",
        "*   List popular languages for Data Science\n",
        "*   List commonly used libraries used by Data Scientists\n",
        "*   List some of development environment open source tools used in data science\n",
        "*   Some examples of evaluating arithmetic expressions in Python"
      ],
      "metadata": {
        "id": "g9iKlPP9UTH3"
      }
    },
    {
      "cell_type": "markdown",
      "source": [
        "Some of the popular languages that Data Scientists use are:\n",
        "1. Python\n",
        "2. R\n",
        "3. SQL"
      ],
      "metadata": {
        "id": "e56gLWMiTDLF"
      }
    },
    {
      "cell_type": "markdown",
      "source": [
        "Some of the commonly used libraries used by Data Scientists include:\n",
        "1. NumPy\n",
        "2. SciPy\n",
        "3. Sci-Kit Learn\n",
        "4. Matplotlib\n",
        "5. ggvis"
      ],
      "metadata": {
        "id": "P-m-BhokTUXX"
      }
    },
    {
      "cell_type": "markdown",
      "source": [
        "|Data Science Tools|\n",
        "|:----------------:|\n",
        "|Python|\n",
        "|Jupyter Notebook|\n",
        "|R Studio|"
      ],
      "metadata": {
        "id": "cLrv-Xz4Tc2S"
      }
    },
    {
      "cell_type": "markdown",
      "source": [
        "### Below are a few examples of evaluating arithmetic expressions in Python"
      ],
      "metadata": {
        "id": "IPWRUqyCTveH"
      }
    },
    {
      "cell_type": "code",
      "source": [
        "#This a simple arithmetic expression to mutiply then add integers\n",
        "(3*4)+5"
      ],
      "metadata": {
        "colab": {
          "base_uri": "https://localhost:8080/"
        },
        "id": "DQlweeKJT6ij",
        "outputId": "f22bd409-5adf-49b0-d8d9-650a4130ad1a"
      },
      "execution_count": 1,
      "outputs": [
        {
          "output_type": "execute_result",
          "data": {
            "text/plain": [
              "17"
            ]
          },
          "metadata": {},
          "execution_count": 1
        }
      ]
    },
    {
      "cell_type": "code",
      "source": [
        "#This will convert 200 minutes to hours by diving\n",
        "200/60"
      ],
      "metadata": {
        "colab": {
          "base_uri": "https://localhost:8080/"
        },
        "id": "KzMjrFXaUElM",
        "outputId": "85854cf2-91b4-4ec5-e179-edc1d3a80437"
      },
      "execution_count": 2,
      "outputs": [
        {
          "output_type": "execute_result",
          "data": {
            "text/plain": [
              "3.3333333333333335"
            ]
          },
          "metadata": {},
          "execution_count": 2
        }
      ]
    },
    {
      "cell_type": "markdown",
      "source": [
        "## Author\n",
        "Ali Lari"
      ],
      "metadata": {
        "id": "KifKjx0UUlzK"
      }
    }
  ]
}